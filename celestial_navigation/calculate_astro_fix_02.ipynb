{
 "cells": [
  {
   "cell_type": "markdown",
   "id": "67eec302-989b-443e-b93a-129ba259f698",
   "metadata": {},
   "source": [
    "**Author:** A.S. Grm (aleksander.grm@fpp.uni-lj.si)\n",
    "\n",
    "**Date:** 2024\n",
    "\n",
    "<hr>"
   ]
  },
  {
   "cell_type": "markdown",
   "id": "f56e909f-f797-421e-9e16-3ddd6f87dfae",
   "metadata": {},
   "source": [
    "# Position Calculation Method\n",
    "\n",
    "This is a method for calculating the astronomical position when the observer's position is known. It can involve multiple celestial bodies!\n",
    "\n",
    "Instead of plotting the position using a line of position (LOP), we can compute it using the method described in the **Admiralty Almanac**.\n",
    "\n",
    "Given our assumed position **AP** ($\\varphi_\\text{AP},\\lambda_\\text{AP}$) and the height difference $\\Delta h_i$ and azimuth $\\omega_i$ for each celestial body, we can determine the calculated position using the following approach.\n",
    "\n",
    "First, calculate the coefficients $A_1,B_1,C_1,D_1,E_1,G_1$ using the formulas:\n",
    "\n",
    "$$ A_1 = \\sum_{i=1}^n \\cos^2 \\omega_i, ~~~ B_1 = \\sum_{i=1}^n \\sin \\omega_i \\: \\cos \\omega_i, ~~~ C_1 = \\sum_{i=1}^n \\sin^2 \\omega_i, ~~~ D_1 = \\sum_{i=1}^n \\Delta h_i \\: \\cos \\omega_i, ~~~ E_1 = \\sum_{i=1}^n \\Delta h_i \\: \\sin \\omega_i, ~~~ G_1 = A_1 \\cdot C_1 - B_1^2,$$\n",
    "\n",
    "where $i$ is the number of measured celestial bodies. Once the coefficients are computed, we can determine the observer's position:\n",
    "\n",
    "$$ \\varphi_1 = \\varphi_\\text{AP} + \\frac{C_1 \\cdot D_1 - B_1 \\cdot E_1}{G_1}, ~~~~ \\lambda_1 = \\lambda_\\text{AP} + \\frac{A_1 \\cdot E_1 - B_1 \\cdot D_1}{G_1 \\cdot \\cos \\varphi_\\text{AP}}.$$\n",
    "\n",
    "Now, with the new position ($\\varphi_1, \\lambda_1$), we can iterate to recalculate $\\Delta h_i$ and $\\omega_i$. We repeat the entire process to determine coefficients $A_2,B_2,C_2,D_2,E_2,G_2$ and compute a second new position:\n",
    "\n",
    "$$ \\varphi_2 = \\varphi_1 + \\frac{C_2 \\cdot D_2 - B_2 \\cdot E_2}{G_2}, ~~~~ \\lambda_2 = \\lambda_1 + \\frac{A_2 \\cdot E_2 - B_2 \\cdot D_2}{G_2 \\cdot \\cos \\varphi_1}.$$\n",
    "\n",
    "This iteration continues until the difference between ($\\varphi_k, \\lambda_k$) and ($\\varphi_{k+1}, \\lambda_{k+1}$) is arbitrarily small.\n",
    "\n",
    "The iteration in calculation is introduced because the line of position (LOP) is not a straight line but a circle. The closer the calculated position is to the true position, the smaller the error of this method, which is based on the assumption that the LOP is a straight line.\n",
    "\n",
    "<hr>"
   ]
  },
  {
   "cell_type": "code",
   "execution_count": null,
   "id": "e2aa5cc7-bc53-4b15-8965-c555b6394568",
   "metadata": {},
   "outputs": [],
   "source": [
    "import os, sys\n",
    "import subprocess as sp\n",
    "\n",
    "# add custom modules and astro data path \n",
    "pp = '../nav_tools/'\n",
    "sys.path.append(pp)"
   ]
  },
  {
   "cell_type": "code",
   "execution_count": null,
   "id": "e372b935-a13f-4cbf-b8f3-95cb12371348",
   "metadata": {},
   "outputs": [],
   "source": [
    "import math as mat\n",
    "import numpy as np\n",
    "import matplotlib.pyplot as mpl\n",
    "mpl.rcParams['text.usetex'] = True\n",
    "mpl.rcParams.update({'font.size': 7})\n",
    "\n",
    "import celestialdata as cdata\n",
    "import navigationalstars as ns\n",
    "import navtools as nt"
   ]
  },
  {
   "cell_type": "code",
   "execution_count": null,
   "id": "d7312ba2-ab11-40f2-832d-6e3462252ee0",
   "metadata": {},
   "outputs": [],
   "source": [
    "def get_coefficients(dh,w,nn):\n",
    "\n",
    "    A = 0\n",
    "    for i in range(nn):\n",
    "        A += mat.cos(nt.deg2rad(w[i]))**2\n",
    "\n",
    "    B = 0\n",
    "    for i in range(nn):\n",
    "        B += mat.sin(nt.deg2rad(w[i]))*mat.cos(nt.deg2rad(w[i]))\n",
    "\n",
    "    C = 0\n",
    "    for i in range(nn):\n",
    "        C += mat.sin(nt.deg2rad(w[i]))**2\n",
    "\n",
    "    D = 0\n",
    "    for i in range(nn):\n",
    "        D += dh[i]*mat.cos(nt.deg2rad(w[i]))\n",
    "\n",
    "    E = 0\n",
    "    for i in range(nn):\n",
    "        E += dh[i]*mat.sin(nt.deg2rad(w[i]))\n",
    "\n",
    "    G = A*C - B**2\n",
    "\n",
    "    return [A,B,C,D,E,G]"
   ]
  },
  {
   "cell_type": "code",
   "execution_count": null,
   "id": "dc69f1fe-e3c2-4231-ab50-5ae9840e6a0f",
   "metadata": {},
   "outputs": [],
   "source": [
    "def get_dh_array(Ho, Hc, nn, convert=False):\n",
    "\n",
    "    dhA = []\n",
    "    for i in range(nn):\n",
    "        if convert:\n",
    "            dh = nt.dms2dd(Ho[i]) - nt.dms2dd(Hc[i]) \n",
    "        else:\n",
    "            dh = Ho[i] - Hc[i]\n",
    "        dhA.append(dh)\n",
    "\n",
    "    return np.array(dhA)"
   ]
  },
  {
   "cell_type": "code",
   "execution_count": null,
   "id": "a9790cdc-0aaf-4a8f-aaac-52df6b09a24e",
   "metadata": {},
   "outputs": [],
   "source": [
    "def get_position(P,dh,w,nn):\n",
    "\n",
    "    [A,B,C,D,E,G] = get_coefficients(dh,w,nn)\n",
    "    \n",
    "    fi = P[0] + (C*D - B*E)/G\n",
    "    la = P[1] + (A*E - B*D)/(G * mat.cos(nt.deg2rad(P[0])))\n",
    "\n",
    "    return [fi,la]"
   ]
  },
  {
   "cell_type": "code",
   "execution_count": null,
   "id": "480295d2-aa2f-430c-8dcc-b7f801571b80",
   "metadata": {},
   "outputs": [],
   "source": [
    "# Main program\n",
    "\n",
    "# Date: 2021/05/11, UT: 19:00:00\n",
    "# Bodies: Alioth, Regulus in Elnath\n",
    "# Assumed position: 41 N, 20 W\n",
    "# True position: 41 30'N, 20 30'W (for control)\n",
    "\n",
    "fi = [29,48,'S']\n",
    "la = [109,3,'W']\n",
    "P = [nt.nav2dd(fi), nt.nav2dd(la)]   # assumed position\n",
    "cbn = ['Denebola','Menkent','Miaplacidus','Rigel']  # celestial body names\n",
    "Ho = [[27,9.5],[23,41.8],[49,28.2],[36,50.1]] # observed altitudes [deg, min]\n",
    "Hc = [[27,16.9],[24,11.1],[49,47.7],[36,23.3]]   # calculated altitudes [deg, min]\n",
    "w = [51.8, 119.6, 176.3,282.6]             # calculated azimuth\n",
    "nn = 4                               # number of celestial bodies\n",
    "\n",
    "dh = get_dh_array(Ho,Hc,nn,True)     # find the intercept\n",
    "print('intercept:')\n",
    "for i in range(nn):\n",
    "    print(' -> {:s}: {:.1f} min'.format(cbn[i],dh[i]*60))\n",
    "\n",
    "[fi, la] = get_position(P,dh,w,nn)   # new calculated astro fix\n",
    "\n",
    "print()\n",
    "print('  AP: fi={:s}, la={:s}'.format(nt.prettyPrintLat(P[0]),nt.prettyPrintLong(P[1])))\n",
    "print('    ------------------------------')\n",
    "print(' Fix: fi={:s}, la={:s} (calculated)'.format(nt.prettyPrintLat(fi),nt.prettyPrintLong(la)))\n",
    "print('True: fi={:s}, la={:s} (for control)'.format(nt.prettyPrintLat(-29.5),nt.prettyPrintLong(-109.5)))"
   ]
  }
 ],
 "metadata": {
  "kernelspec": {
   "display_name": "Python 3 (ipykernel)",
   "language": "python",
   "name": "python3"
  },
  "language_info": {
   "codemirror_mode": {
    "name": "ipython",
    "version": 3
   },
   "file_extension": ".py",
   "mimetype": "text/x-python",
   "name": "python",
   "nbconvert_exporter": "python",
   "pygments_lexer": "ipython3",
   "version": "3.11.11"
  }
 },
 "nbformat": 4,
 "nbformat_minor": 5
}
