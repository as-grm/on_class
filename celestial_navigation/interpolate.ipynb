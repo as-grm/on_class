{
 "cells": [
  {
   "cell_type": "markdown",
   "id": "531576e9-ec8d-4d69-b4f9-3727e4e0ce19",
   "metadata": {},
   "source": [
    "# Interpolacijska pomoč\n",
    "\n",
    "Vsi podatki v Almanahu so podatni na cele ure, kar pa kliče po interpolaciji. Sicer so dane interpolacijske tablice in korekcije, vendar lahko točno naredimo z linearno interpolacijo\n",
    "\n",
    "$$\n",
    "    y = y_1 + \\frac{y_2 - y_1}{x_2 - x_1} (x - x_1),\n",
    "$$    \n",
    "\n",
    "kjer je $x$ kot čas $t$ in recimo $y$ pa kot časovni kot $G_\\text{HA}$."
   ]
  },
  {
   "cell_type": "code",
   "execution_count": null,
   "id": "a378278f-fc50-4b71-9824-1dfa311910dd",
   "metadata": {},
   "outputs": [],
   "source": [
    "import os, sys\n",
    "\n",
    "# add custom modules and astro data path \n",
    "pp = '../nav_tools/'\n",
    "sys.path.append(pp)"
   ]
  },
  {
   "cell_type": "code",
   "execution_count": null,
   "id": "20267390-a7f7-496a-856d-0f10357b64c3",
   "metadata": {},
   "outputs": [],
   "source": [
    "import navtools as nt"
   ]
  },
  {
   "cell_type": "code",
   "execution_count": null,
   "id": "698342a7-3406-4f5a-9af1-6c2130d64df8",
   "metadata": {},
   "outputs": [],
   "source": [
    "# interpolacijska formula za vnos v navigacijskem formatu za časovno spremenljive podatke, ki so dani na celo uro\n",
    "# [dd, mm.m]\n",
    "\n",
    "def intp(t,g1,g2):\n",
    "\n",
    "    y1 = nt.dms2dd(g1)\n",
    "    y2 = nt.dms2dd(g2)\n",
    "\n",
    "    if y1 > y2:\n",
    "        dy = y2 + 360 - y1\n",
    "    else:\n",
    "        dy = y2 - y1\n",
    "\n",
    "    dt = t[1]*60 + t[2]\n",
    "\n",
    "    y = y1 + dy/3600 * dt\n",
    "\n",
    "    return [y, dy]    "
   ]
  },
  {
   "cell_type": "code",
   "execution_count": null,
   "id": "86e12306-37f1-4322-a3f2-b69e0448ea47",
   "metadata": {},
   "outputs": [],
   "source": [
    "# primer za Gha intepolacijo\n",
    "\n",
    "t = [10,12,47]\n",
    "y1 = [105,49.6]\n",
    "y2 = [120,19]\n",
    "\n",
    "[y, dy] = intp(t, y1, y2)"
   ]
  },
  {
   "cell_type": "code",
   "execution_count": null,
   "id": "78ea8a80-8b51-4749-92ab-ba2494aef5cf",
   "metadata": {},
   "outputs": [],
   "source": [
    "print(' Y: {:s}; ({:.5f})'.format(nt.prettyPrintHA(y),y))\n",
    "print('dY: {:s}; ({:.5f})'.format(nt.prettyPrintHA(dy),dy))"
   ]
  }
 ],
 "metadata": {
  "kernelspec": {
   "display_name": "Python 3 (ipykernel)",
   "language": "python",
   "name": "python3"
  },
  "language_info": {
   "codemirror_mode": {
    "name": "ipython",
    "version": 3
   },
   "file_extension": ".py",
   "mimetype": "text/x-python",
   "name": "python",
   "nbconvert_exporter": "python",
   "pygments_lexer": "ipython3",
   "version": "3.11.11"
  }
 },
 "nbformat": 4,
 "nbformat_minor": 5
}
