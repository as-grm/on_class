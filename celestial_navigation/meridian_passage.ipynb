{
 "cells": [
  {
   "cell_type": "markdown",
   "id": "a710aaed-4619-456b-b572-f45afb968281",
   "metadata": {},
   "source": [
    "**Author:** A.S. Grm (aleksander.grm@fpp.uni-lj.si)\n",
    "\n",
    "**Date:** 2024\n",
    "\n",
    "<hr>"
   ]
  },
  {
   "cell_type": "markdown",
   "id": "a2c96c30-e886-407e-bf3f-b3afe3f08a5f",
   "metadata": {},
   "source": [
    "# Meridian passage\n",
    "\n",
    "Calculates approximate time of meridian passage of the Sun\n"
   ]
  },
  {
   "cell_type": "code",
   "execution_count": null,
   "id": "4bcbd631-cdb6-40ab-aaf2-93bb975b0df7",
   "metadata": {},
   "outputs": [],
   "source": [
    "import os, sys\n",
    "\n",
    "# add custom modules and astro data path \n",
    "pp = '../nav_tools/'\n",
    "sys.path.append(pp)\n",
    "\n",
    "import navtools as nt\n",
    "import celestialdata as cdata\n",
    "cd = cdata.CelestialData(pp)"
   ]
  },
  {
   "cell_type": "code",
   "execution_count": null,
   "id": "930cca83-e064-4f31-a1d8-c2e81ed6982d",
   "metadata": {},
   "outputs": [],
   "source": [
    "# *** Inputs ***\n",
    "date = [2023,8,18] # [yyyy, mmm, ddd]\n",
    "fi = [45,0,'N']    # [deg, min, N/S]\n",
    "la = [15,0,'E']    # [deg, min, E/W]\n",
    "h  = 20            # oserver height in [m]\n",
    "# ***\n",
    "\n",
    "pos = [nt.nav2dd(fi),nt.nav2dd(la),20]\n",
    "\n",
    "[mt0, mt1] = cd.get_meridian_transit(date,pos)\n",
    "\n",
    "print('SUN meridian transit:')\n",
    "print('  -> date: {:04d}/{:02d}/{:02d}'.format(date[0],date[1],date[2]))\n",
    "print('  ->  lat:  {:s}'.format(nt.prettyPrintLat(pos[0])))\n",
    "print('  -> long: {:s}'.format(nt.prettyPrintLong(pos[1])))\n",
    "print()\n",
    "print('Culmination times (upper, lower):')\n",
    "print(' -> time0: {:02d}:{:02d}:{:02d} UTC'.format(mt0[3],mt0[4],mt0[5]))\n",
    "print(' -> time1: {:02d}:{:02d}:{:02d} UTC'.format(mt1[3],mt1[4],mt1[5]))"
   ]
  }
 ],
 "metadata": {
  "kernelspec": {
   "display_name": "Python 3 (ipykernel)",
   "language": "python",
   "name": "python3"
  },
  "language_info": {
   "codemirror_mode": {
    "name": "ipython",
    "version": 3
   },
   "file_extension": ".py",
   "mimetype": "text/x-python",
   "name": "python",
   "nbconvert_exporter": "python",
   "pygments_lexer": "ipython3",
   "version": "3.11.11"
  }
 },
 "nbformat": 4,
 "nbformat_minor": 5
}
