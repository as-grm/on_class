{
 "cells": [
  {
   "cell_type": "markdown",
   "id": "abb7dea4-662c-431c-9f0e-15eda85d262d",
   "metadata": {},
   "source": [
    "**Author:** A.S. Grm (aleksander.grm@fpp.uni-lj.si)\n",
    "\n",
    "**Date:** 2024\n",
    "\n",
    "<hr>"
   ]
  },
  {
   "cell_type": "markdown",
   "id": "0cc976a3-5fc7-42cc-a719-082de57f3fc6",
   "metadata": {},
   "source": [
    "## Compass Deviation Control\n",
    "\n",
    "Compass deviation control involves comparing the calculated true azimuth of the Sun's rise/set from a known position with the measured compass azimuth. This process helps to assess and adjust compass deviation."
   ]
  },
  {
   "cell_type": "code",
   "execution_count": null,
   "id": "4bcbd631-cdb6-40ab-aaf2-93bb975b0df7",
   "metadata": {},
   "outputs": [],
   "source": [
    "import os, sys\n",
    "\n",
    "# add custom modules and astro data path \n",
    "pp = '../nav_tools/'\n",
    "sys.path.append(pp)\n",
    "\n",
    "import navtools as nt\n",
    "import celestialdata as cdata\n",
    "cd = cdata.CelestialData(pp)"
   ]
  },
  {
   "cell_type": "code",
   "execution_count": null,
   "id": "930cca83-e064-4f31-a1d8-c2e81ed6982d",
   "metadata": {},
   "outputs": [],
   "source": [
    "# *** Inputs ***\n",
    "date = [2021,2,22] # [yyyy, mmm, ddd]\n",
    "time = [10,12,0]   # [HH, MM, SS] in UTC\n",
    "fi = [40,30,'N']    # [deg, min, N/S]\n",
    "la = [50,20,'W']    # [deg, min, E/W]\n",
    "h  = 8            # oserver height in [m]\n",
    "# ***\n",
    "\n",
    "pos = [nt.nav2dd(fi),nt.nav2dd(la),h]\n",
    "\n",
    "w_gyro = 101.7 # Gyro compas azimuth in arc deg\n",
    "w_mag =  107.2 # Magnetic compass azimuth arc deg\n",
    "var =    -50.0 # Magnetic declination in arc min\n",
    "\n",
    "sun_data = cd.get_sun_data(date, time, pos)\n",
    "w_true = sun_data['wc']\n",
    "\n",
    "dw_gyro = w_true - w_gyro\n",
    "dw_mag = w_true - w_mag - var/60\n",
    "\n",
    "print('Compass deviation:')\n",
    "print('  ->   w true: {:s}'.format(nt.prettyPrintAz(w_true)))\n",
    "print('  ->     gyro: {:s}'.format(nt.prettyPrintAz(dw_gyro)))\n",
    "print('  -> magnetic: {:s}'.format(nt.prettyPrintAz(dw_mag)))"
   ]
  }
 ],
 "metadata": {
  "kernelspec": {
   "display_name": "Python 3 (ipykernel)",
   "language": "python",
   "name": "python3"
  },
  "language_info": {
   "codemirror_mode": {
    "name": "ipython",
    "version": 3
   },
   "file_extension": ".py",
   "mimetype": "text/x-python",
   "name": "python",
   "nbconvert_exporter": "python",
   "pygments_lexer": "ipython3",
   "version": "3.11.11"
  }
 },
 "nbformat": 4,
 "nbformat_minor": 5
}
