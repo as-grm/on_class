{
 "cells": [
  {
   "cell_type": "markdown",
   "id": "12b7f33a-511b-4d47-b8aa-5f2873c418d3",
   "metadata": {},
   "source": [
    "# Summner method"
   ]
  },
  {
   "cell_type": "code",
   "execution_count": null,
   "id": "1b089339-d23f-4498-9683-25b09b7efe76",
   "metadata": {},
   "outputs": [],
   "source": [
    "import os, sys\n",
    "import subprocess as sp\n",
    "\n",
    "# add custom modules and astro data path \n",
    "pp = '../nav_tools/'\n",
    "sys.path.append(pp)"
   ]
  },
  {
   "cell_type": "code",
   "execution_count": null,
   "id": "7b620a51-ee33-4d6c-8ed7-b32723d306fc",
   "metadata": {},
   "outputs": [],
   "source": [
    "import math as mat\n",
    "import numpy as np\n",
    "import matplotlib.pyplot as mpl\n",
    "mpl.rcParams['text.usetex'] = True\n",
    "mpl.rcParams.update({'font.size': 7})\n",
    "\n",
    "import celestialdata as cdata\n",
    "import navigationalstars as ns\n",
    "import navtools as nt"
   ]
  },
  {
   "cell_type": "code",
   "execution_count": null,
   "id": "c626b859-6cf1-474b-a877-1b5f4c43cead",
   "metadata": {},
   "outputs": [],
   "source": [
    "def get_lha(h,dec,fi,w):\n",
    "\n",
    "    h_dd = h[0] + h[1]/60\n",
    "    dec_dd = nt.nav2dd(dec)\n",
    "    fi_dd = nt.nav2dd(fi)\n",
    "    \n",
    "    z = mat.pi/2 - nt.deg2rad(h_dd)\n",
    "    p = mat.pi/2 - nt.deg2rad(dec_dd)\n",
    "    psi = mat.pi/2 - nt.deg2rad(fi_dd)\n",
    "\n",
    "    cos_lha = (mat.cos(z) - mat.cos(p)*mat.cos(psi))/(mat.sin(p)*mat.sin(psi))\n",
    "    lha_rad = mat.acos(cos_lha)\n",
    "    lha_dd = nt.rad2deg(lha_rad)\n",
    "\n",
    "    if w < 180:\n",
    "        lha = 360 - lha_dd\n",
    "    else:\n",
    "        lha = lha_dd\n",
    "\n",
    "    return [cos_lha, lha_dd, lha]"
   ]
  },
  {
   "cell_type": "code",
   "execution_count": null,
   "id": "027770b8-ac8e-4b55-a483-e839890857a2",
   "metadata": {},
   "outputs": [],
   "source": [
    "def get_lambda(lha,gha_a,sha):\n",
    "\n",
    "    gha_a_dd = gha_a[0] + gha_a[1]/60\n",
    "    sha_dd = sha[0] + sha[1]/60\n",
    "    \n",
    "    gha = gha_a_dd + sha_dd\n",
    "    la_dd = lha - gha\n",
    "\n",
    "    if la_dd < -180:\n",
    "        la = 360 + la_dd\n",
    "    elif la_dd > 180:\n",
    "        la = la_dd - 360\n",
    "    else:\n",
    "        la = la_dd\n",
    "\n",
    "    return [gha, la_dd, la]"
   ]
  },
  {
   "cell_type": "code",
   "execution_count": null,
   "id": "c8d7cf51-2bea-4424-88a0-483fd6818c56",
   "metadata": {},
   "outputs": [],
   "source": [
    "# Main\n",
    "\n",
    "# *** Input data ***\n",
    "fi = [45,0,'N']\n",
    "la = [30,0,'W']\n",
    "\n",
    "fi1 = [44,0,'N']\n",
    "fi2 = [46,0,'N']\n",
    "\n",
    "# CB 1\n",
    "name1 ='Dubhe'\n",
    "dec1 = [61,38.1,'N']\n",
    "sha1 = [193,44.4]\n",
    "h1 = [27,0] # [deg,min]\n",
    "w1 =  28  # deg\n",
    "\n",
    "# CB 2\n",
    "name2 = 'Diphda'\n",
    "dec2 = [17,52.2,'S']\n",
    "sha2 = [348,50.7]\n",
    "h2 = [19,30.8] # [deg,min]\n",
    "w2 =  215  # deg\n",
    "\n",
    "# Gha Aries\n",
    "gha_a = [76,11]\n",
    "\n",
    "# ********************\n",
    "# *** calculations ***\n",
    "# ********************\n",
    "\n",
    "[cos_lha_11, lha_dd_11, lha_11] = get_lha(h1,dec1,fi1,w1)\n",
    "[cos_lha_12, lha_dd_12, lha_12] = get_lha(h1,dec1,fi2,w1)\n",
    "[cos_lha_21, lha_dd_21, lha_21] = get_lha(h2,dec2,fi1,w2)\n",
    "[cos_lha_22, lha_dd_22, lha_22] = get_lha(h2,dec2,fi2,w2)\n",
    "\n",
    "[gha_11, la_dd_11, la_11] = get_lambda(lha_11, gha_a, sha1)\n",
    "[gha_12, la_dd_12, la_12] = get_lambda(lha_12, gha_a, sha1)\n",
    "[gha_21, la_dd_21, la_21] = get_lambda(lha_21, gha_a, sha2)\n",
    "[gha_22, la_dd_22, la_22] = get_lambda(lha_22, gha_a, sha2)\n",
    "\n",
    "print('Celestial body: {:s}'.format(name1))\n",
    "print(' ->  fi: {:s}'.format(nt.prettyPrintLat(nt.nav2dd(fi1))))\n",
    "print(' -> lha:  {:s} (starting: {:s}, cos(lha): {:.5f})'.format(nt.prettyPrintDec(lha_11), nt.prettyPrintDec(lha_dd_11), cos_lha_11))\n",
    "print(' ->  la:  {:s} (starting: {:s}, gha: {:s})'.format(nt.prettyPrintLong(la_11), nt.prettyPrintLong(la_dd_11), nt.prettyPrintDec(gha_11)))\n",
    "print()\n",
    "print(' ->  fi: {:s}'.format(nt.prettyPrintLat(nt.nav2dd(fi2))))\n",
    "print(' -> lha:  {:s} (starting: {:s}, cos(lha): {:.5f})'.format(nt.prettyPrintDec(lha_12), nt.prettyPrintDec(lha_dd_12), cos_lha_12))\n",
    "print(' ->  la:  {:s} (starting: {:s}, gha: {:s})'.format(nt.prettyPrintLong(la_12), nt.prettyPrintLong(la_dd_12), nt.prettyPrintDec(gha_12)))\n",
    "print('----')\n",
    "print()\n",
    "print('Celestial body: {:s}'.format(name2))\n",
    "print(' ->  fi: {:s}'.format(nt.prettyPrintLat(nt.nav2dd(fi1))))\n",
    "print(' -> lha:  {:s} (starting: {:s}, cos(lha): {:.5f})'.format(nt.prettyPrintDec(lha_21), nt.prettyPrintDec(lha_dd_21), cos_lha_21))\n",
    "print(' ->  la:  {:s} (starting: {:s}, gha: {:s})'.format(nt.prettyPrintLong(la_21), nt.prettyPrintLong(la_dd_21), nt.prettyPrintDec(gha_21)))\n",
    "print()\n",
    "print(' ->  fi: {:s}'.format(nt.prettyPrintLat(nt.nav2dd(fi2))))\n",
    "print(' -> lha:  {:s} (starting: {:s}, cos(lha): {:.5f})'.format(nt.prettyPrintDec(lha_22), nt.prettyPrintDec(lha_dd_22), cos_lha_22))\n",
    "print(' ->  la:  {:s} (starting: {:s}, gha: {:s})'.format(nt.prettyPrintLong(la_22), nt.prettyPrintLong(la_dd_22), nt.prettyPrintDec(gha_22)))\n",
    "print()\n"
   ]
  }
 ],
 "metadata": {
  "kernelspec": {
   "display_name": "Python 3 (ipykernel)",
   "language": "python",
   "name": "python3"
  },
  "language_info": {
   "codemirror_mode": {
    "name": "ipython",
    "version": 3
   },
   "file_extension": ".py",
   "mimetype": "text/x-python",
   "name": "python",
   "nbconvert_exporter": "python",
   "pygments_lexer": "ipython3",
   "version": "3.11.11"
  }
 },
 "nbformat": 4,
 "nbformat_minor": 5
}
