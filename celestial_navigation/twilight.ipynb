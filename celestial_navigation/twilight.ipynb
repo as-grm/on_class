{
 "cells": [
  {
   "cell_type": "markdown",
   "id": "a17647fa-8def-428e-91a6-7359911e24ac",
   "metadata": {},
   "source": [
    "**Author:** A.S. Grm (aleksander.grm@fpp.uni-lj.si)\n",
    "\n",
    "**Date:** 2024\n",
    "\n",
    "<hr>"
   ]
  },
  {
   "cell_type": "markdown",
   "id": "34d5a9e0-e784-4df7-8467-bc09ca78416d",
   "metadata": {},
   "source": [
    "# Sunset and Sunrise\n"
   ]
  },
  {
   "cell_type": "code",
   "execution_count": null,
   "id": "4bcbd631-cdb6-40ab-aaf2-93bb975b0df7",
   "metadata": {},
   "outputs": [],
   "source": [
    "import os, sys\n",
    "\n",
    "pp = '../nav_tools/'\n",
    "sys.path.append(pp)\n",
    "\n",
    "import navtools as nt\n",
    "import celestialdata as cdata\n",
    "cd = cdata.CelestialData(pp)"
   ]
  },
  {
   "cell_type": "code",
   "execution_count": null,
   "id": "930cca83-e064-4f31-a1d8-c2e81ed6982d",
   "metadata": {},
   "outputs": [],
   "source": [
    "# *** Inputs ***\n",
    "date = [2021,5,15] # [yyyy, mm, dd]\n",
    "fi = [29,48,'S']    # [deg, min, N/S]\n",
    "la = [109,3,'W']    # [deg, min, E/W]\n",
    "h = 8             # observer height in [m]\n",
    "\n",
    "\n",
    "pos = [nt.nav2dd(fi),nt.nav2dd(la),h]\n",
    "\n",
    "srs = cd.get_sunrise_sunset(date,pos)\n",
    "\n",
    "print('SUN twilight:')\n",
    "print('  -> date: {:04d}/{:02d}/{:02d}'.format(date[0],date[1],date[2]))\n",
    "print('  ->  lat:  {:s}'.format(nt.prettyPrintLat(pos[0])))\n",
    "print('  -> long: {:s}'.format(nt.prettyPrintLong(pos[1])))\n",
    "print()\n",
    "print('  -> rise: {:02d}:{:02d}:{:02d} UTC'.format(srs[0][3],srs[0][4],srs[0][5]))\n",
    "print('  ->  set: {:02d}:{:02d}:{:02d} UTC'.format(srs[1][3],srs[1][4],srs[1][5]))"
   ]
  }
 ],
 "metadata": {
  "kernelspec": {
   "display_name": "Python 3 (ipykernel)",
   "language": "python",
   "name": "python3"
  },
  "language_info": {
   "codemirror_mode": {
    "name": "ipython",
    "version": 3
   },
   "file_extension": ".py",
   "mimetype": "text/x-python",
   "name": "python",
   "nbconvert_exporter": "python",
   "pygments_lexer": "ipython3",
   "version": "3.11.11"
  }
 },
 "nbformat": 4,
 "nbformat_minor": 5
}
