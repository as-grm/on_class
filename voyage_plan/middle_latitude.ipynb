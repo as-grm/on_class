{
 "cells": [
  {
   "cell_type": "markdown",
   "id": "a879f26f-e401-49ee-8995-28be2f959859",
   "metadata": {},
   "source": [
    "# Calculation of middle latitude\n",
    "\n",
    "$$\n",
    "    \\cos \\tilde{\\varphi} = \\cfrac{\\Delta \\varphi}{\\log \\left[  \\cfrac{\\tan \\left( 45^{\\circ} + \\frac{\\varphi_2}{2} \\right)}{\\tan \\left( 45^{\\circ} + \\frac{\\varphi_1}{2} \\right)} \\right]}, ~~~ \\Delta \\varphi = \\varphi_2 - \\varphi_1,\n",
    "$$\n",
    "\n",
    "where $\\Delta \\varphi$ must be in **radians**."
   ]
  },
  {
   "cell_type": "code",
   "execution_count": null,
   "id": "27e1f14c-92b2-4327-a0a4-ba474206220a",
   "metadata": {},
   "outputs": [],
   "source": [
    "import math as mat\n",
    "import numpy as np"
   ]
  },
  {
   "cell_type": "code",
   "execution_count": null,
   "id": "5bba8653-a9b2-4b63-b8d6-c57d751d1583",
   "metadata": {},
   "outputs": [],
   "source": [
    "def cos_fi(fi1, fi2):\n",
    "\n",
    "    fi1_r = fi1 * mat.pi/180\n",
    "    fi2_r = fi2 * mat.pi/180\n",
    "\n",
    "    dfi_r = fi2_r - fi1_r\n",
    "\n",
    "    cos_fi = dfi_r / mat.log( mat.tan(mat.pi/4 + fi2_r/2) / mat.tan(mat.pi/4 + fi1_r/2) )\n",
    "\n",
    "    return cos_fi"
   ]
  },
  {
   "cell_type": "code",
   "execution_count": null,
   "id": "c4803ec4-8fe1-4802-8ee7-3b57d0e30772",
   "metadata": {},
   "outputs": [],
   "source": [
    "# Example\n",
    "\n",
    "fi1 = 40\n",
    "fi2 = -40\n",
    "\n",
    "cos_fi_m = cos_fi(fi1, fi2)\n",
    "\n",
    "print('cos(fi_m): {:.5f}'.format(cos_fi_m))\n",
    "print('     fi_m: {:.5f}'.format(mat.acos(cos_fi_m)*180/mat.pi))"
   ]
  }
 ],
 "metadata": {
  "kernelspec": {
   "display_name": "Python 3 (ipykernel)",
   "language": "python",
   "name": "python3"
  },
  "language_info": {
   "codemirror_mode": {
    "name": "ipython",
    "version": 3
   },
   "file_extension": ".py",
   "mimetype": "text/x-python",
   "name": "python",
   "nbconvert_exporter": "python",
   "pygments_lexer": "ipython3",
   "version": "3.11.11"
  }
 },
 "nbformat": 4,
 "nbformat_minor": 5
}
