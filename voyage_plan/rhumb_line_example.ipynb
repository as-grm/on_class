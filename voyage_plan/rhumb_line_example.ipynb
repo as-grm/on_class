{
 "cells": [
  {
   "cell_type": "markdown",
   "id": "6f80b3c1-caaf-4f44-885e-4c7a0181627b",
   "metadata": {},
   "source": [
    "**Author:** A.S. Grm (aleksander.grm@fpp.uni-lj.si)\n",
    "\n",
    "**Date:** 2024\n",
    "\n",
    "<hr>"
   ]
  },
  {
   "cell_type": "markdown",
   "id": "compact-update",
   "metadata": {},
   "source": [
    "# Rhumb Line Problem\n",
    "\n",
    "In the analysis of a rhumb line voyage, we fundamentally distinguish **two** problems:\n",
    "- determination of the distance $D_L$ and departure course $\\omega_L$\n",
    "- determination of the arrival position $P_1=(\\varphi_1,\\lambda_1)$\n",
    "\n",
    "For both problems, let's examine the calculation of parameters. The calculations are performed using **Merkator's mean latitude** $\\tilde{\\varphi}$, which means the calculations are precise assuming the Earth is represented as a spherical shape. To determine positions on the *WGS84* ellipsoid, corrections for the Merkator latitude are necessary. However, these corrections are negligible, so we usually calculate using a sphere as an approximation of the Earth!\n",
    "\n",
    "We enter positions in the format commonly used in navigation:\n",
    "\n",
    "$\\varphi = \\#\\#^\\circ \\, \\#\\#.\\#' \\, \\mathrm{N/S}$, $~~~\\lambda = \\#\\#\\#^\\circ \\, \\#\\#.\\#' \\, \\mathrm{E/W}$,\n",
    "\n",
    "where degrees are given as whole numbers and minutes to one decimal place precision.\n",
    "\n",
    "Input format for position:\n",
    "- LAT-$\\varphi$ and LONG-$\\lambda$ are entered in the format [degrees, minutes, cardinal direction]\n",
    "\n",
    "Example input for a position:\n",
    "- $\\varphi$: [12, 34.5, 'N']\n",
    "- $\\lambda$: [117, 12.6, 'W']\n",
    "- The cardinal direction must be in **single quotes**, with permissible characters 'N', 'S', 'E', 'W'."
   ]
  },
  {
   "cell_type": "code",
   "execution_count": 1,
   "id": "b55399f7-83e0-4398-b690-e3ebd4e3e537",
   "metadata": {},
   "outputs": [],
   "source": [
    "# Needed basic modules\n",
    "import os, sys\n",
    "\n",
    "# nav tools path\n",
    "sys.path.append('../nav_tools')"
   ]
  },
  {
   "cell_type": "code",
   "execution_count": 2,
   "id": "cd1307b4-3521-4735-b370-817e1b5ec3c9",
   "metadata": {},
   "outputs": [],
   "source": [
    "import navtools as nt\n",
    "import rhumbline as rl"
   ]
  },
  {
   "cell_type": "markdown",
   "id": "indirect-comfort",
   "metadata": {},
   "source": [
    "## First Rhumb Line Problem\n",
    "\n",
    "We have the departure position $P_0=(\\varphi_0, \\lambda_0)$ and the arrival position $P_1=(\\varphi_1, \\lambda_1)$. The goal is to determine the rhumb line distance $D_L$ and rhumb line course $\\omega_L$ between $P_0$ and $P_1$.\n",
    "\n",
    "**Inputs**\n",
    "\n",
    "- $P_0=(\\varphi_0, \\lambda_0)$ - departure position\n",
    "- $P_1=(\\varphi_1, \\lambda_1)$ - arrival position\n",
    "\n",
    "**Outputs**\n",
    "\n",
    "- $D_L$ - rhumb line distance in nautical miles $[\\mathrm{Nm}]$\n",
    "- $\\omega_L$ - rhumb line course in degrees $[^\\circ]$"
   ]
  },
  {
   "cell_type": "code",
   "execution_count": 6,
   "id": "wrapped-europe",
   "metadata": {},
   "outputs": [
    {
     "name": "stdout",
     "output_type": "stream",
     "text": [
      "departure: φ=25°00.00′S; λ=109°00.00′W\n",
      "  arrival: φ=24°24.00′S; λ=108°07.00′W\n",
      "----------------\n",
      "distance: 60.1Nm\n",
      "  course: 53.22°\n"
     ]
    }
   ],
   "source": [
    "# Departure\n",
    "fi0 = [25,0,'S']\n",
    "la0 = [109,0,'W']\n",
    "P0 = [nt.nav2dd(fi0),nt.nav2dd(la0)]\n",
    "\n",
    "# Arrival\n",
    "fi1 = [24,24,'S']\n",
    "la1 = [108,7,'W']\n",
    "P1 = [nt.nav2dd(fi1),nt.nav2dd(la1)]\n",
    "\n",
    "# Calculation of the 1st problem\n",
    "[d, w] = rl.rhumbLineP1(P0, P1)\n",
    "\n",
    "# Print results\n",
    "print('departure:',nt.getPositionString(P0))\n",
    "print('  arrival:',nt.getPositionString(P1))\n",
    "print('----------------')\n",
    "print('distance: {:.1f}Nm'.format(d))\n",
    "print('  course: {:.2f}{:s}'.format(w,nt.arc_deg))"
   ]
  },
  {
   "cell_type": "code",
   "execution_count": 7,
   "id": "spare-emperor",
   "metadata": {},
   "outputs": [
    {
     "data": {
      "image/png": "[encoded data removed]",
      "text/plain": [
       "<Figure size 640x480 with 1 Axes>"
      ]
     },
     "metadata": {},
     "output_type": "display_data"
    }
   ],
   "source": [
    "# Draw results and print in pdf file\n",
    "pts = nt.position2array([P0,P1])\n",
    "nt.plotRLPath(pts, 5, 10, 'rhumb_line_01.pdf')"
   ]
  },
  {
   "cell_type": "markdown",
   "id": "endangered-separation",
   "metadata": {},
   "source": [
    "<hr>"
   ]
  },
  {
   "cell_type": "markdown",
   "id": "resistant-chassis",
   "metadata": {},
   "source": [
    "## Second Rhumb Line Problem\n",
    "\n",
    "We are given the departure position $P_0=(\\varphi_0, \\lambda_0)$, rhumb line distance $D_L$, and rhumb line course $\\omega_L$ between $P_0$ and $P_1$. The objective is to determine the arrival position $P_1=(\\varphi_1, \\lambda_1)$.\n",
    "\n",
    "**Inputs**\n",
    "\n",
    "- $P_0=(\\varphi_0, \\lambda_0)$ - departure position\n",
    "- $D_L$ - rhumb line distance in nautical miles $[\\mathrm{Nm}]$\n",
    "- $\\omega_L$ - rhumb line course in degrees $[^\\circ]$\n",
    "\n",
    "**Outputs**\n",
    "\n",
    "- $P_1=(\\varphi_1, \\lambda_1)$ - arrival position"
   ]
  },
  {
   "cell_type": "code",
   "execution_count": 5,
   "id": "hollow-design",
   "metadata": {},
   "outputs": [
    {
     "name": "stdout",
     "output_type": "stream",
     "text": [
      "departure: φ=25°00.00′S; λ=109°00.00′W\n",
      " distance: 60.0Nm\n",
      "   course: 53.00°\n",
      "----------------\n",
      "  arrival: φ=24°23.89′S; λ=108°07.26′W\n"
     ]
    }
   ],
   "source": [
    "# Departure\n",
    "fi0 = [25,0,'S']\n",
    "la0 = [109,0,'W']\n",
    "P0 = [nt.nav2dd(fi0),nt.nav2dd(la0)]\n",
    "\n",
    "# RL dist and course\n",
    "dL = 60.0 # Nm\n",
    "wL =  53.0 # deg\n",
    "\n",
    "# Calculation of the 2nd problem\n",
    "[fi1, la1] = rl.rhumbLineP2(P0, dL, wL)\n",
    "P1 = [fi1,la1]\n",
    "\n",
    "# Print results\n",
    "print('departure:',nt.getPositionString(P0))\n",
    "print(' distance: {:.1f}Nm'.format(dL))\n",
    "print('   course: {:.2f}{:s}'.format(wL,nt.arc_deg))\n",
    "print('----------------')\n",
    "print('  arrival:',nt.getPositionString(P1))"
   ]
  }
 ],
 "metadata": {
  "kernelspec": {
   "display_name": "Python 3 (ipykernel)",
   "language": "python",
   "name": "python3"
  },
  "language_info": {
   "codemirror_mode": {
    "name": "ipython",
    "version": 3
   },
   "file_extension": ".py",
   "mimetype": "text/x-python",
   "name": "python",
   "nbconvert_exporter": "python",
   "pygments_lexer": "ipython3",
   "version": "3.11.11"
  }
 },
 "nbformat": 4,
 "nbformat_minor": 5
}
