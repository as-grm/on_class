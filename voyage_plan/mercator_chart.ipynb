{
 "cells": [
  {
   "cell_type": "markdown",
   "id": "2a76fd92-cf11-41aa-ae30-cab09835ee1b",
   "metadata": {},
   "source": [
    "# Calculation of Mercator chart construction parameters"
   ]
  },
  {
   "cell_type": "markdown",
   "id": "2439f1b3-a9a8-4928-a811-6723f218574e",
   "metadata": {},
   "source": [
    "$$\n",
    "    \\Delta \\lambda [\\text{mm}]= \\frac{\\pi}{10800} \\cfrac{a \\: \\cos \\varphi_c}{\\sqrt{1 - e^2 \\: \\sin^2 \\varphi_c}} \\: \\frac{1000}{M}\n",
    "$$\n",
    "\n",
    "where $\\varphi_c$ is construction latitude, $a$ is ellipsoid horizontal semiaxis, $e$ is elipsoid eccentricy and $M$ is scaling. The result is how long one arc minute of $\\Delta \\lambda$ is in millimetres.\n",
    "\n",
    "$$\n",
    "    \\Delta \\varphi [\\text{mm}] = \\Delta \\lambda [\\text{mm}] \\: \\Delta \\varphi_M [\\text{arcmin}],\n",
    "$$\n",
    "\n",
    "where is $\\Delta \\varphi_M [\\text{arcmin}]$ difference in Mercator latitude. The result is the length of the Mercator chart in the latitude direction between the chart's lower and upper latitudes. "
   ]
  },
  {
   "cell_type": "code",
   "execution_count": null,
   "id": "714a02c9-3844-46c4-965a-ff2f47edbf89",
   "metadata": {},
   "outputs": [],
   "source": [
    "import math as mat\n",
    "import numpy as np\n",
    "\n",
    "Ra = 6378137.0\n",
    "Rb = 6356752.314\n",
    "EPS = mat.sqrt(1 - Rb**2/Ra**2)"
   ]
  },
  {
   "cell_type": "code",
   "execution_count": null,
   "id": "5a3b58db-a868-4888-9349-5f83306ed850",
   "metadata": {},
   "outputs": [],
   "source": [
    "def fi_merc(a):\n",
    "\n",
    "    c1 = mat.tan(mat.pi/4 + a/2)\n",
    "    c2 = ((1 - EPS*mat.sin(a))/(1 + EPS*mat.sin(a)))**(EPS/2)\n",
    "\n",
    "    return 10800/mat.pi * mat.log(c1 * c2)"
   ]
  },
  {
   "cell_type": "code",
   "execution_count": null,
   "id": "97bbe5c4-337d-4337-bf1b-36a4f0a654d2",
   "metadata": {},
   "outputs": [],
   "source": [
    "def dLa_dFi_MC(fi_c,mm, dm):\n",
    "\n",
    "    a = (fi_c[0] + fi_c[1]/60) * mat.pi/180\n",
    "    dLa = mat.pi/10800 * Ra * mat.cos(a) / mat.sqrt(1 - EPS**2 * mat.sin(a)**2) * 1000/mm\n",
    "\n",
    "    aN = (fi_c[0] + (fi_c[1]+dm)/60) * mat.pi/180\n",
    "    aS = (fi_c[0] + (fi_c[1]-dm)/60) * mat.pi/180\n",
    "    fi_mN = fi_merc(aN)\n",
    "    fi_mS = fi_merc(aS)\n",
    "    dFi = dLa * (fi_mN - fi_mS)\n",
    "\n",
    "    return [dLa*2*dm,dFi]"
   ]
  },
  {
   "cell_type": "code",
   "execution_count": null,
   "id": "137e14aa-55f5-4f03-bcd6-d56efdbf012d",
   "metadata": {},
   "outputs": [],
   "source": [
    "# Example\n",
    "#\n",
    "# The dimension of the chart is 1 arc degree.\n",
    "\n",
    "fi_cc = [45,30]  # Construction latitude\n",
    "scale = 1e6  # scale\n",
    "dm = 60/2 # 1 degree in minutes, half up and half down.\n",
    "\n",
    "[dLa, dFi] = dLa_dFi_MC(fi_cc, scale, dm)\n",
    "\n",
    "print()\n",
    "print('dLa: {:.3f} [mm]; ({:.1f} [min])'.format(dLa, dm*2))\n",
    "print('dFi: {:.3f} [mm]; ({:.1f} [min])'.format(dFi, dm*2))"
   ]
  }
 ],
 "metadata": {
  "kernelspec": {
   "display_name": "Python 3 (ipykernel)",
   "language": "python",
   "name": "python3"
  },
  "language_info": {
   "codemirror_mode": {
    "name": "ipython",
    "version": 3
   },
   "file_extension": ".py",
   "mimetype": "text/x-python",
   "name": "python",
   "nbconvert_exporter": "python",
   "pygments_lexer": "ipython3",
   "version": "3.11.11"
  }
 },
 "nbformat": 4,
 "nbformat_minor": 5
}
