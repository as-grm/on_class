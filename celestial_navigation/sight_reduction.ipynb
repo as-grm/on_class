{
 "cells": [
  {
   "cell_type": "markdown",
   "id": "7b6f4f3d-c519-4157-81a6-3f2d561eaa9a",
   "metadata": {},
   "source": [
    "**Author:** A.S. Grm (aleksander.grm@fpp.uni-lj.si)\n",
    "\n",
    "**Date:** 2024\n",
    "\n",
    "<hr>"
   ]
  },
  {
   "cell_type": "markdown",
   "id": "aef6018b-db32-476a-8db2-93117a9cbc47",
   "metadata": {},
   "source": [
    "# Calculation of Height Intercept and Azimuth for Celestial Body (SRP - Sight Reduction Procedure)\n",
    "\n",
    "The calculation of positional parameters using the *Mark De Saint Hilaire* method is carried out manually using the [Nautical Almanac](https://www.thenauticalalmanac.com) (*Gha*, *Dec*, and *Sha* of Aries and the celestial body) along with the measurement of the celestial body's altitude $H$.\n",
    "\n",
    "In addition to the measurement itself, we need to determine the measurement time and aproximate location. Positions are entered in the format commonly used in navigation:\n",
    "\n",
    "$\\varphi = \\#\\#^\\circ \\, \\#\\#.\\#' \\, \\mathrm{N/S}$, $\\lambda = \\#\\#\\#^\\circ \\, \\#\\#.\\#' \\, \\mathrm{E/W}$,\n",
    "\n",
    "where degrees are given as whole numbers and minutes to one decimal place precision.\n",
    "\n",
    "Input format for position:\n",
    "- LAT-$\\varphi$ and LONG-$\\lambda$ are entered in the format [degrees, minutes, cardinal direction]\n",
    "\n",
    "Example input for a position:\n",
    "- $\\varphi$: [12, 34.5, 'N']\n",
    "- $\\lambda$: [117, 12.6, 'W']\n",
    "- The cardinal direction must be in **single quotes**, with permissible characters 'N', 'S', 'E', 'W'\n",
    "\n",
    "Measurement time is recorded as:\n",
    "- date: *date*=[day,month,year]\n",
    "- time: *time*=[hour,minutes, seconds]\n",
    "\n",
    "The format for entering the height is the same as for the position and is written as:\n",
    "- height: $h=\\#\\#^\\circ \\#\\#.\\#'$=[deg,min] (example: [34, 17.6])\n",
    "\n",
    "<hr>"
   ]
  },
  {
   "cell_type": "markdown",
   "id": "db2ce61b-0b0e-45e9-882d-875db3d4b6a1",
   "metadata": {},
   "source": [
    "**Calculation Procedure**\n",
    "\n",
    "The procedure for determining the positional parameters proceeds in the following order:\n",
    "\n",
    "1. First, we need to select an assumed position (AP):\n",
    "   $$P_\\mathrm{AP} = (\\varphi_\\mathrm{AP},\\lambda_\\mathrm{AP}),$$\n",
    "\n",
    "2. Next, calculate the height of the observed celestial body (calculated height $H_c$) using the formula:\n",
    "   $$ \\sin H_c = \\sin \\varphi_\\mathrm{AP} \\: \\sin \\delta + \\cos \\varphi_\\mathrm{AP} \\: \\cos \\delta \\: \\cos \\mathrm{Lha},$$\n",
    "\n",
    "3. Then, calculate the azimuth of the celestial body from our assumed position:\n",
    "   $$\\cos \\omega = \\frac{\\sin \\delta - \\sin H_c \\: \\sin \\varphi_\\mathrm{AP}}{\\cos H_c \\: \\cos \\varphi_\\mathrm{AP}}$$\n",
    "   and convert it into a navigational azimuth required for plotting the line of position:\n",
    "   $$\\omega_\\mathrm{N} = \\begin{cases} \\omega &; \\text{if } 180^\\circ < \\mathrm{Lha} \\leq 360^\\circ \\\\ 360^\\circ - \\omega &; \\text{if } 0^\\circ < \\mathrm{Lha}  \\leq 180^\\circ \\end{cases}$$\n",
    "   This converts the calculated azimuth $\\omega$ into a navigational azimuth $\\omega_\\mathrm{N}$ using the local hour angle $\\mathrm{Lha}$.\n",
    "\n",
    "4. With the help of the measured and corrected height $H_\\mathrm{o}$ (observed height), we can determine the height difference, known as the **intercept** in English:\n",
    "   $$\\Delta H [\\mathrm{Nm}]= 60 \\: (H_\\mathrm{o}[\\mathrm{deg}] - H_\\mathrm{c}[\\mathrm{deg}]).$$\n",
    "   The difference is determined in nautical miles (Nm) because we need a distance to plot the line of position on the chart.\n",
    "\n",
    "<hr>"
   ]
  },
  {
   "cell_type": "markdown",
   "id": "5f3bdf8b-4d29-4377-b928-b606e048e266",
   "metadata": {},
   "source": [
    "## Calculation program "
   ]
  },
  {
   "cell_type": "code",
   "execution_count": null,
   "id": "659113fc-3746-43c2-bd65-bae830a97cde",
   "metadata": {},
   "outputs": [],
   "source": [
    "import os, sys\n",
    "\n",
    "# add custom modules and astro data path \n",
    "pp = '../nav_tools/'\n",
    "sys.path.append(pp)"
   ]
  },
  {
   "cell_type": "code",
   "execution_count": null,
   "id": "b61bf1d9-a163-4f82-93d3-11f569e02644",
   "metadata": {},
   "outputs": [],
   "source": [
    "import math as mat\n",
    "import numpy as np\n",
    "import matplotlib.pyplot as mpl\n",
    "mpl.rcParams['text.usetex'] = True\n",
    "mpl.rcParams.update({'font.size': 7})\n",
    "\n",
    "import celestialdata as cdata\n",
    "import navigationalstars as ns\n",
    "import navtools as nt"
   ]
  },
  {
   "cell_type": "code",
   "execution_count": null,
   "id": "83019f31-7d43-4365-96da-fbefb5642f8c",
   "metadata": {},
   "outputs": [],
   "source": [
    "def getHeight(fi, dec, lha):\n",
    "\n",
    "    fi_rad = nt.deg2rad(fi)\n",
    "    dec_rad = nt.deg2rad(dec)\n",
    "    lha_rad = nt.deg2rad(lha)\n",
    "\n",
    "    sin_hc = mat.sin(fi_rad)*mat.sin(dec_rad) + mat.cos(fi_rad)*mat.cos(dec_rad)*mat.cos(lha_rad)\n",
    "\n",
    "    return mat.asin(sin_hc) "
   ]
  },
  {
   "cell_type": "code",
   "execution_count": null,
   "id": "134948e1-2d10-4fe3-a8fc-fcbf6894dbe2",
   "metadata": {},
   "outputs": [],
   "source": [
    "def getAzimuth(fi, dec, lha, hc):\n",
    "\n",
    "    fi_rad = nt.deg2rad(fi); #print('fi:', fi)\n",
    "    dec_rad = nt.deg2rad(dec); #print('dec:', dec)\n",
    "    lha_rad = nt.deg2rad(lha); #print('lha:', lha)\n",
    "    hc_rad = nt.deg2rad(hc); #print('hc:', hc)\n",
    "    \n",
    "\n",
    "    cos_wc = (mat.sin(dec_rad) - mat.sin(hc_rad)*mat.sin(fi_rad))/(mat.cos(hc_rad)*mat.cos(fi_rad)); #print('cos_wc:', cos_wc)\n",
    "\n",
    "    wc = mat.acos(cos_wc)\n",
    "\n",
    "    if lha_rad > mat.pi:\n",
    "        wn = wc\n",
    "    else:\n",
    "        wn = 2*mat.pi - wc\n",
    "\n",
    "    return wn"
   ]
  },
  {
   "cell_type": "code",
   "execution_count": null,
   "id": "ded3d683-1b9e-476b-a567-bbbf9d9b44ae",
   "metadata": {},
   "outputs": [],
   "source": [
    "# Finds all celestial bodies above the horizon\n",
    "def findAllVisibleCelestialBodies(t,pos,ns_db):\n",
    "    \n",
    "    star_ids = ns_db.keys()\n",
    "    h0 = 0\n",
    "    h1 = 90\n",
    "    \n",
    "    vs = []\n",
    "    for s_id in star_ids:\n",
    "        sdd = cd.get_star_data(s_id,t)\n",
    "        saz = cd.get_star_altaz(s_id,t,pos)\n",
    "        if saz['alt'] > h0 and saz['alt'] < h1:\n",
    "            s_name = ns_db[s_id][0]\n",
    "            vs.append({'name':s_name, 'dec':sdd['dec'], 'sha':sdd['sha'], 'alt':saz['alt'], 'az':saz['az']})\n",
    "    \n",
    "    return vs"
   ]
  },
  {
   "cell_type": "code",
   "execution_count": null,
   "id": "201dffff-2935-484a-8764-757879010413",
   "metadata": {},
   "outputs": [],
   "source": [
    "# Finds CB data\n",
    "def findCelestialBodyData(ns_db,pos,t,name):\n",
    " \n",
    "    gha_a = cd.get_aries_gha(t)\n",
    "    lha_a = gha_a + pos[1]\n",
    "\n",
    "    cbs = findAllVisibleCelestialBodies(t,pos,ns_db)\n",
    "    dec = 0\n",
    "    sha = 0\n",
    "    alt = 0\n",
    "    az = 0\n",
    "    found = False\n",
    "\n",
    "    for cb in cbs:\n",
    "        if cb['name'].upper() == name.upper():\n",
    "            dec = cb['dec']\n",
    "            sha = cb['sha']\n",
    "            alt = cb['alt']\n",
    "            az = cb['az']\n",
    "            found = True\n",
    "\n",
    "    data = {'gha_a':gha_a, 'lha_a':lha_a, 'dec':dec, 'sha':sha, 'alt':alt, 'az':az}\n",
    "\n",
    "    return [found,data,cbs]   "
   ]
  },
  {
   "cell_type": "code",
   "execution_count": null,
   "id": "cf1eb3ae-2e55-48e5-b121-2eb648121f64",
   "metadata": {},
   "outputs": [],
   "source": [
    "#\n",
    "def getHeightAndAzimuth(ns_db,pos,date,time,name):\n",
    "\n",
    "    t = [date[0],date[1],date[2],time[0],time[1],time[2]]\n",
    "\n",
    "    [cf, data,cbs] = findCelestialBodyData(ns_db,pos,t,name)\n",
    "\n",
    "    if cf:\n",
    "        lha = data['lha_a'] + data['sha']\n",
    "        if lha > 360:\n",
    "            lha = lha - 360\n",
    "        \n",
    "        hc = nt.rad2deg(getHeight(pos[0], data['dec'], lha))\n",
    "        \n",
    "        wn = nt.rad2deg(getAzimuth(pos[0], data['dec'], hc, lha))\n",
    "\n",
    "        return [cf,hc,wn,lha,cbs]\n",
    "    else:\n",
    "        return [cf,0,0,0,cbs] "
   ]
  },
  {
   "cell_type": "markdown",
   "id": "a8fc30f0-401a-4d77-858e-cf13102359f4",
   "metadata": {},
   "source": [
    "<hr>\n",
    "\n",
    "## Input data\n"
   ]
  },
  {
   "cell_type": "code",
   "execution_count": null,
   "id": "ce7ac4b5-666c-489e-9c7d-0ebc4956a515",
   "metadata": {},
   "outputs": [],
   "source": [
    "# Load astro database\n",
    "cd = cdata.CelestialData(pp)\n",
    "ns_db = cd.get_nav_stars_db()"
   ]
  },
  {
   "cell_type": "code",
   "execution_count": null,
   "id": "20f9185e-6a09-4b08-a886-4498e43af30f",
   "metadata": {},
   "outputs": [],
   "source": [
    "# *** Inputs ***\n",
    "date = [2022,2,12] # [yyyy, mm, dd]\n",
    "time = [19,0,0]    # [HH:MM:SS] in UTC\n",
    "\n",
    "# Apparent position\n",
    "fi = [46,0,'N']; \n",
    "la = [13,30,'E']\n",
    "\n",
    "# Observer height in [meters]\n",
    "h = 20.0\n",
    "\n",
    "# Observed Celestial Body \n",
    "cb_name = 'betelgeuse' # Celestial Body name\n",
    "ho = [51, 11.28]       # Celestial Body observed height [deg, mi.dec] (corrected!!)\n",
    "\n",
    "\n",
    "# -------------------\n",
    "# --- calculation ---\n",
    "# -------------------\n",
    "\n",
    "pos = [nt.nav2dd(fi), nt.nav2dd(la), h]\n",
    "ho_dd = ho[0]+ho[1]/60\n",
    "\n",
    "[cf, hc, wn, cbs] = getHeightAndAzimuth(ns_db,pos,date,time,cb_name)\n",
    "\n",
    "[cf, hc, wn, lha, cbs] = getHeightAndAzimuth(ns_db,pos,date,time,cb_name)\n",
    "\n",
    "if cf:\n",
    "    dh = 60 * (ho_dd - hc)\n",
    "    print('Results of calculation:')\n",
    "    print()\n",
    "    print('  -> body: {:s}'.format(cb_name.upper()))\n",
    "    print('  -> lha: {:s}'.format(nt.prettyPrintHA(lha)))\n",
    "    print('  -> height calculated: {:s}'.format(nt.prettyPrintAlt(hc)))\n",
    "    print('  -> height measured:   {:s}'.format(nt.prettyPrintAlt(ho_dd)))\n",
    "    \n",
    "    print()\n",
    "    print('  -> azimuth:   {:s}'.format(nt.prettyPrintAz(wn)))\n",
    "    print('  -> intercept: {:6.2f} Nm'.format(dh))\n",
    "else:\n",
    "    print('  ERROR: Celestial body name {:s} NOT found in database'.format(cb_name))\n",
    "    print('         Visible bodies are:')\n",
    "    for cb in cbs:\n",
    "        print('           -> {:12s}'.format(cb['name']))"
   ]
  }
 ],
 "metadata": {
  "kernelspec": {
   "display_name": "Python 3 (ipykernel)",
   "language": "python",
   "name": "python3"
  },
  "language_info": {
   "codemirror_mode": {
    "name": "ipython",
    "version": 3
   },
   "file_extension": ".py",
   "mimetype": "text/x-python",
   "name": "python",
   "nbconvert_exporter": "python",
   "pygments_lexer": "ipython3",
   "version": "3.11.11"
  }
 },
 "nbformat": 4,
 "nbformat_minor": 5
}
