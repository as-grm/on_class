{
 "cells": [
  {
   "cell_type": "markdown",
   "id": "89ac290d-2a91-4bc3-be9c-ad0287acfc02",
   "metadata": {},
   "source": [
    "# Calculation of the visible Sun trajectory"
   ]
  },
  {
   "cell_type": "code",
   "execution_count": null,
   "id": "ff02bb3d-fc60-4c7b-b20f-e3f8d055b47c",
   "metadata": {},
   "outputs": [],
   "source": [
    "import math as mat\n",
    "import numpy as np\n",
    "\n",
    "import matplotlib.pyplot as mpl\n",
    "mpl.rcParams['text.usetex'] = True"
   ]
  },
  {
   "cell_type": "code",
   "execution_count": null,
   "id": "0bb329a6-63a2-4705-bc92-114d296e31c1",
   "metadata": {},
   "outputs": [],
   "source": [
    "d2r = mat.pi/180\n",
    "r2d = 180/mat.pi\n",
    "\n",
    "fi = 45 * d2r\n",
    "dec = 10 * d2r\n",
    "lha = np.linspace(260, 460, 100) * d2r"
   ]
  },
  {
   "cell_type": "code",
   "execution_count": null,
   "id": "0d36bce1-0d02-42d2-9d54-384141b71d1e",
   "metadata": {},
   "outputs": [],
   "source": [
    "h = np.arcsin(mat.sin(fi)*mat.sin(dec) + mat.cos(fi)*mat.cos(dec)*np.cos(lha))"
   ]
  },
  {
   "cell_type": "code",
   "execution_count": null,
   "id": "040f04c3-ef43-4f08-b33c-802fe2c07b36",
   "metadata": {},
   "outputs": [],
   "source": [
    "fig, ax = mpl.subplots(1, 1, layout='constrained')\n",
    "fig.suptitle(r'$\\sin H = \\sin \\varphi \\, \\sin \\delta + \\cos \\varphi \\, \\cos \\delta \\, \\cos \\textsc{Lha}$')\n",
    "\n",
    "ax.plot(lha*r2d, h*r2d)\n",
    "ax.set_xlabel(r'\\textsc{Lha} (is actually time $t$)')\n",
    "ax.set_ylabel(r'$H(t)$')\n",
    "ax.grid(which='major', linestyle='-')\n",
    "ax.grid(which='minor', linestyle=':')"
   ]
  }
 ],
 "metadata": {
  "kernelspec": {
   "display_name": "Python 3 (ipykernel)",
   "language": "python",
   "name": "python3"
  },
  "language_info": {
   "codemirror_mode": {
    "name": "ipython",
    "version": 3
   },
   "file_extension": ".py",
   "mimetype": "text/x-python",
   "name": "python",
   "nbconvert_exporter": "python",
   "pygments_lexer": "ipython3",
   "version": "3.11.11"
  }
 },
 "nbformat": 4,
 "nbformat_minor": 5
}
