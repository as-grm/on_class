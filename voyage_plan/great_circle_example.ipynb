{
 "cells": [
  {
   "cell_type": "markdown",
   "id": "ca6dfc8a-47e1-44a7-9c11-d32d967b3429",
   "metadata": {},
   "source": [
    "**Author:** A.S. Grm (aleksander.grm@fpp.uni-lj.si)\n",
    "\n",
    "**Date:** 2024\n",
    "\n",
    "<hr>"
   ]
  },
  {
   "cell_type": "markdown",
   "id": "copyrighted-cornell",
   "metadata": {},
   "source": [
    "# Great Circle Problem\n",
    "\n",
    "In the analysis of a great circle voyage, we fundamentally distinguish **two** problems:\n",
    "- determination of the distance $D$, departure course $\\omega_1$, and vertex position $P_v$\n",
    "- determination of positions of waypoints $P_m$ for navigation along intermediate rhumb lines\n",
    "\n",
    "Let's examine the calculation of parameters for both problems. In the first case, we determine all parameters of the great circle and one intermediate point. In the second case, we calculate all intermediate points and determine the distance along rhumb lines. For both cases, we also plot the course of the voyage.\n",
    "\n",
    "We enter positions in the format commonly used in navigation:\n",
    "\n",
    "$\\varphi = \\#\\#^\\circ \\, \\#\\#.\\#' \\, \\mathrm{N/S}$, $\\lambda = \\#\\#\\#^\\circ \\, \\#\\#.\\#' \\, \\mathrm{E/W}$,\n",
    "\n",
    "where degrees are given as whole numbers and minutes to one decimal place precision.\n",
    "\n",
    "Input format for position:\n",
    "- LAT-$\\varphi$ and LONG-$\\lambda$ are entered in the format [degrees, minutes, cardinal direction]\n",
    "\n",
    "Example input for a position:\n",
    "- $\\varphi$: [12, 34.5, 'N']\n",
    "- $\\lambda$: [117, 12.6, 'W']\n",
    "- The cardinal direction must be in **single quotes**, with permissible characters 'N', 'S', 'E', 'W'"
   ]
  },
  {
   "cell_type": "code",
   "id": "0fea7616-cb62-4dc1-95e7-12a71f3e04a0",
   "metadata": {},
   "source": [
    "# Needed modules\n",
    "import sys\n",
    "\n",
    "# nav tools path\n",
    "sys.path.append('../nav_tools')"
   ],
   "outputs": [],
   "execution_count": null
  },
  {
   "cell_type": "code",
   "id": "39ed9935-1e7c-4187-8797-422353f10b73",
   "metadata": {},
   "source": [
    "import navtools as nt\n",
    "import rhumbline as rl\n",
    "import greatcircle as gc"
   ],
   "outputs": [],
   "execution_count": null
  },
  {
   "cell_type": "markdown",
   "id": "moderate-surveillance",
   "metadata": {},
   "source": [
    "### Case 1"
   ]
  },
  {
   "cell_type": "code",
   "id": "incorporate-search",
   "metadata": {},
   "source": [
    "# Departure\n",
    "fi0 = [45,33.6,'N']\n",
    "la0 = [25,47.7,'E']\n",
    "P0 = [nt.nav2dd(fi0),nt.nav2dd(la0)]\n",
    "\n",
    "# Arrival\n",
    "fi1 = [37,17.8,'N']\n",
    "la1 = [102,27.4,'W']\n",
    "P1 = [nt.nav2dd(fi1),nt.nav2dd(la1)]\n",
    "\n",
    "# GC calculation\n",
    "[d_gc, w1_gc, Pv] = gc.getGCparameters(P0, P1)\n",
    "\n",
    "# Print results\n",
    "print('departure:',nt.getPositionString(P0))\n",
    "print('  arrival:',nt.getPositionString(P1))\n",
    "print('----------------')\n",
    "print('distance: {:.1f}Nm'.format(d_gc))\n",
    "print('  course: {:.2f}{:s}'.format(w1_gc,nt.arc_deg))\n",
    "print('  vertex:',nt.getPositionString(Pv))"
   ],
   "outputs": [],
   "execution_count": null
  },
  {
   "cell_type": "code",
   "id": "c32f329a-26aa-4fd9-a40c-af3a6e02aa32",
   "metadata": {},
   "source": [
    "# Calculation of a midpoint\n",
    "la_md = nt.nav2dd([180,0,'W'])\n",
    "fi_md = gc.getMidPosition(P0,P1,la_md)\n",
    "print('midpoint:', nt.getPositionString([fi_md, la_md]))"
   ],
   "outputs": [],
   "execution_count": null
  },
  {
   "cell_type": "code",
   "id": "packed-asset",
   "metadata": {},
   "source": [
    "# Draw result\n",
    "P_gc = gc.getPathPoints(P0, P1)\n",
    "nt.plotGCPath(P_gc,Pv,5,10,'gc_path_01.pdf')"
   ],
   "outputs": [],
   "execution_count": null
  },
  {
   "cell_type": "code",
   "id": "5ab76cbf-0a75-4cea-a197-f7e99aa38eee",
   "metadata": {},
   "source": [
    "# Draw CG using RL parts\n",
    "dla = 10 # GC dissection to 10 deg in longitude\n",
    "P_gc = gc.getPathPoints(P0, P1, dla)\n",
    "nt.plotGCRLPath(P_gc,10,20,'gc_RL-path_01.pdf')\n",
    "\n",
    "print('p[{:02d}]: {:s}'.format(0, nt.getPositionString(P_gc[0])))\n",
    "d_sum = 0.0\n",
    "for i in range(1,P_gc.shape[0]):\n",
    "    [d, w] = rl.rhumbLineP1(P_gc[i-1], P_gc[i])\n",
    "    d_sum += d\n",
    "    print('p[{:02d}]: {:s}; ({:02d}->{:02d}) {:s}={:.1f}{:s}; d={:.1f}Nm'.\n",
    "          format(i, nt.getPositionString(P_gc[i]), i-1, i, nt.u_omega, w, nt.arc_deg,d))\n",
    "\n",
    "print()    \n",
    "print('distance-RL: {:.1f}Nm; diff: {:.1f}Nm'.format(d_sum, d_sum-d_gc))"
   ],
   "outputs": [],
   "execution_count": null
  },
  {
   "cell_type": "markdown",
   "id": "3c6fa84d-ac10-41c6-a8b3-84a26f61b435",
   "metadata": {},
   "source": [
    "### Case 2"
   ]
  },
  {
   "cell_type": "code",
   "id": "1c00d294-a2e5-4e7b-8f6a-ec1f90eaa387",
   "metadata": {},
   "source": [
    "# Departure\n",
    "fi0 = [27,12.5,'S']\n",
    "la0 = [153,35.7,'E']\n",
    "P0 = [nt.nav2dd(fi0),nt.nav2dd(la0)]\n",
    "\n",
    "# Arrival\n",
    "fi1 = [48,29.4,'N']\n",
    "la1 = [124,48.6,'W']\n",
    "P1 = [nt.nav2dd(fi1),nt.nav2dd(la1)]\n",
    "\n",
    "# GC calculation\n",
    "[d_gc, w1_gc, Pv] = gc.getGCparameters(P0, P1)\n",
    "\n",
    "# Print results\n",
    "print('departure:',nt.getPositionString(P0))\n",
    "print('  arrival:',nt.getPositionString(P1))\n",
    "print('----------------')\n",
    "print('distance: {:.1f}Nm'.format(d_gc))\n",
    "print('  course: {:.2f}{:s}'.format(w1_gc,nt.arc_deg))\n",
    "print('  vertex:',nt.getPositionString(Pv))"
   ],
   "outputs": [],
   "execution_count": null
  },
  {
   "cell_type": "code",
   "id": "interstate-george",
   "metadata": {},
   "source": [
    "# Midpoint calculation\n",
    "la_md = nt.nav2dd([180,0,'W'])\n",
    "fi_md = gc.getMidPosition(P0,P1,la_md)\n",
    "print('midpoint:', nt.getPositionString([fi_md, la_md]))"
   ],
   "outputs": [],
   "execution_count": null
  },
  {
   "cell_type": "code",
   "id": "d135764a-9940-4400-bec3-02fe01e309fc",
   "metadata": {},
   "source": [
    "# Draw result\n",
    "P_gc = gc.getPathPoints(P0, P1)\n",
    "nt.plotGCPath(P_gc,Pv,5,10,'gc_path_02.pdf')"
   ],
   "outputs": [],
   "execution_count": null
  },
  {
   "cell_type": "code",
   "id": "assigned-salvation",
   "metadata": {},
   "source": [
    "# Draw CG using RL parts\n",
    "dla = 10 # GC dissection to 10 deg in longitude\n",
    "P_gc = gc.getPathPoints(P0, P1, dla)\n",
    "nt.plotGCRLPath(P_gc,10,20,'gc_RL-path_02.pdf')\n",
    "\n",
    "print('p[{:02d}]: {:s}'.format(0, nt.getPositionString(P_gc[0])))\n",
    "d_sum = 0.0\n",
    "for i in range(1,P_gc.shape[0]):\n",
    "    [d, w] = rl.rhumbLineP1(P_gc[i-1], P_gc[i])\n",
    "    d_sum += d\n",
    "    print('p[{:02d}]: {:s}; ({:02d}->{:02d}) {:s}={:.1f}{:s}; d={:.1f}Nm'.\n",
    "          format(i, nt.getPositionString(P_gc[i]), i-1, i, nt.u_omega, w, nt.arc_deg,d))\n",
    "\n",
    "print()    \n",
    "print('distance-RL: {:.1f}Nm; diff: {:.1f}Nm'.format(d_sum, d_sum-d_gc))"
   ],
   "outputs": [],
   "execution_count": null
  },
  {
   "cell_type": "markdown",
   "id": "destroyed-bruce",
   "metadata": {},
   "source": [
    "### Case 3"
   ]
  },
  {
   "cell_type": "code",
   "id": "noted-strip",
   "metadata": {},
   "source": [
    "# Departure\n",
    "fi0 = [50,55,'N']\n",
    "la0 = [7,32,'W']\n",
    "P0 = [nt.nav2dd(fi0),nt.nav2dd(la0)]\n",
    "\n",
    "# Arrival\n",
    "fi1 = [45,45,'N']\n",
    "la1 = [53,24,'W']\n",
    "P1 = [nt.nav2dd(fi1),nt.nav2dd(la1)]\n",
    "\n",
    "# GC calculation\n",
    "[d_gc, w1_gc, Pv] = gc.getGCparameters(P0, P1)\n",
    "\n",
    "# Print results\n",
    "print('departure:',nt.getPositionString(P0))\n",
    "print('  arrival:',nt.getPositionString(P1))\n",
    "print('----------------')\n",
    "print('distance: {:.1f}Nm'.format(d_gc))\n",
    "print('  course: {:.2f}{:s}'.format(w1_gc,nt.arc_deg))\n",
    "print('  vertex:',nt.getPositionString(Pv))"
   ],
   "outputs": [],
   "execution_count": null
  },
  {
   "cell_type": "code",
   "id": "isolated-worry",
   "metadata": {},
   "source": [
    "# Midpoint calculation\n",
    "la_md = nt.nav2dd([45,34.2,'W'])\n",
    "fi_md = gc.getMidPosition(P0,P1,la_md)\n",
    "print('midpoint:', nt.getPositionString([fi_md, la_md]))"
   ],
   "outputs": [],
   "execution_count": null
  },
  {
   "cell_type": "code",
   "id": "possible-roommate",
   "metadata": {},
   "source": [
    "# Draw result\n",
    "P_gc = gc.getPathPoints(P0, P1)\n",
    "nt.plotGCPath(P_gc,Pv,5,10,'gc_path_03.pdf')"
   ],
   "outputs": [],
   "execution_count": null
  },
  {
   "cell_type": "code",
   "id": "nonprofit-quebec",
   "metadata": {},
   "source": [
    "# Draw CG using RL parts\n",
    "dla = 10 # GC dissection to 10 deg in longitude\n",
    "P_gc = gc.getPathPoints(P0, P1, dla)\n",
    "nt.plotGCRLPath(P_gc,5,10,'gc_RL-path_03.pdf')\n",
    "\n",
    "print('p[{:02d}]: {:s}'.format(0, nt.getPositionString(P_gc[0])))\n",
    "d_sum = 0.0\n",
    "for i in range(1,P_gc.shape[0]):\n",
    "    [d, w] = rl.rhumbLineP1(P_gc[i-1], P_gc[i])\n",
    "    d_sum += d\n",
    "    print('p[{:02d}]: {:s}; ({:02d}->{:02d}) {:s}={:.1f}{:s}; d={:.1f}Nm'.\n",
    "          format(i, nt.getPositionString(P_gc[i]), i-1, i, nt.u_omega, w, nt.arc_deg,d))\n",
    "\n",
    "print()    \n",
    "print('distance-RL: {:.1f}Nm; diff: {:.1f}Nm'.format(d_sum, d_sum-d_gc))"
   ],
   "outputs": [],
   "execution_count": null
  },
  {
   "cell_type": "markdown",
   "id": "international-james",
   "metadata": {},
   "source": [
    "### Case 4\n",
    "\n",
    "Check for the Equator crossing."
   ]
  },
  {
   "cell_type": "code",
   "id": "norman-aurora",
   "metadata": {},
   "source": [
    "# Departure\n",
    "fi0 = [32,33.6,'N']\n",
    "la0 = [13,34.8,'W']\n",
    "P0 = [nt.nav2dd(fi0),nt.nav2dd(la0)]\n",
    "\n",
    "# Arrival\n",
    "fi1 = [63,24.5,'S']\n",
    "la1 = [72,22.3,'W']\n",
    "P1 = [nt.nav2dd(fi1),nt.nav2dd(la1)]\n",
    "\n",
    "# GC calculation\n",
    "[d_gc, w1_gc, Pv] = gc.getGCparameters(P0, P1)\n",
    "\n",
    "# Print results\n",
    "print('departure:',nt.getPositionString(P0))\n",
    "print('  arrival:',nt.getPositionString(P1))\n",
    "print('----------------')\n",
    "print('distance: {:.1f}Nm'.format(d_gc))\n",
    "print('  course: {:.2f}{:s}'.format(w1_gc,nt.arc_deg))\n",
    "print('  vertex:',nt.getPositionString(Pv))"
   ],
   "outputs": [],
   "execution_count": null
  },
  {
   "cell_type": "code",
   "id": "postal-interstate",
   "metadata": {},
   "source": [
    "# Midpoint calculation\n",
    "la_md = nt.nav2dd([45,34.2,'W'])\n",
    "fi_md = gc.getMidPosition(P0,P1,la_md)\n",
    "print('midpoint:', nt.getPositionString([fi_md, la_md]))"
   ],
   "outputs": [],
   "execution_count": null
  },
  {
   "cell_type": "code",
   "id": "national-mixer",
   "metadata": {},
   "source": [
    "# Draw result\n",
    "P_gc = gc.getPathPoints(P0, P1)\n",
    "nt.plotGCPath(P_gc,Pv,10,20,'gc_path_04.pdf')"
   ],
   "outputs": [],
   "execution_count": null
  },
  {
   "cell_type": "code",
   "id": "sought-sellers",
   "metadata": {},
   "source": [
    "# Draw CG using RL parts\n",
    "dla = 10 # GC dissection to 10 deg in longitude\n",
    "P_gc = gc.getPathPoints(P0, P1, dla)\n",
    "nt.plotGCRLPath(P_gc,10,20,'gc_RL-path_04.pdf')\n",
    "\n",
    "print('p[{:02d}]: {:s}'.format(0, nt.getPositionString(P_gc[0])))\n",
    "d_sum = 0.0\n",
    "for i in range(1,P_gc.shape[0]):\n",
    "    [d, w] = rl.rhumbLineP1(P_gc[i-1], P_gc[i])\n",
    "    d_sum += d\n",
    "    print('p[{:02d}]: {:s}; ({:02d}->{:02d}) {:s}={:.1f}{:s}; d={:.1f}Nm'.\n",
    "          format(i, nt.getPositionString(P_gc[i]), i-1, i, nt.u_omega, w, nt.arc_deg,d))\n",
    "\n",
    "print()    \n",
    "print('distance-RL: {:.1f}Nm; diff: {:.1f}Nm'.format(d_sum, d_sum-d_gc))"
   ],
   "outputs": [],
   "execution_count": null
  }
 ],
 "metadata": {
  "kernelspec": {
   "display_name": "Python 3 (ipykernel)",
   "language": "python",
   "name": "python3"
  },
  "language_info": {
   "codemirror_mode": {
    "name": "ipython",
    "version": 3
   },
   "file_extension": ".py",
   "mimetype": "text/x-python",
   "name": "python",
   "nbconvert_exporter": "python",
   "pygments_lexer": "ipython3",
   "version": "3.11.6"
  }
 },
 "nbformat": 4,
 "nbformat_minor": 5
}
